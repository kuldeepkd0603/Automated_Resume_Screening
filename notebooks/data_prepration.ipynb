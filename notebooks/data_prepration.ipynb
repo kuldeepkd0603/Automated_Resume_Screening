{
 "cells": [
  {
   "cell_type": "markdown",
   "id": "a118488c",
   "metadata": {
    "vscode": {
     "languageId": "plaintext"
    }
   },
   "source": [
    "# Data Preparation for Automated Resume Screening"
   ]
  },
  {
   "cell_type": "markdown",
   "id": "b92ccde9",
   "metadata": {},
   "source": [
    "In these file we have data in pdf form we have 2500 pdf of diffeternt -different types of resume oe each category we have extract text from pdf and label pdf with its category which label in folder name "
   ]
  },
  {
   "cell_type": "code",
   "execution_count": 3,
   "id": "b907bb1c",
   "metadata": {},
   "outputs": [],
   "source": [
    "import os\n",
    "import fitz\n",
    "import pandas as pd"
   ]
  },
  {
   "cell_type": "code",
   "execution_count": 4,
   "id": "01e2a265",
   "metadata": {},
   "outputs": [],
   "source": [
    "def extract_text_from_pdf(pdf_path):\n",
    "    \"\"\"extrat text from pdf\"\"\"\n",
    "    text=\"\"\n",
    "    try:\n",
    "        with fitz.open(pdf_path) as doc:\n",
    "            for page in doc:\n",
    "                text += page.get_text()\n",
    "    except Exception as e:\n",
    "        print(f\"Error reading {pdf_path}: {e}\")\n",
    "    return text\n"
   ]
  },
  {
   "cell_type": "code",
   "execution_count": 10,
   "id": "51656200",
   "metadata": {},
   "outputs": [],
   "source": [
    "data_dir=\"../data/raw/data\"\n",
    "resume_data=[]\n",
    "for label in os.listdir(data_dir):\n",
    "    label_path = os.path.join(data_dir, label)\n",
    "    \n",
    "    if os.path.isdir(label_path):\n",
    "        for file in os.listdir(label_path):\n",
    "            if file.endswith(\".pdf\"):\n",
    "                pdf_path = os.path.join(label_path, file)\n",
    "                text = extract_text_from_pdf(pdf_path)\n",
    "                resume_data.append({\n",
    "                    \"resume_text\": text,\n",
    "                    \"job_role\": label\n",
    "                })\n",
    "df = pd.DataFrame(resume_data)\n"
   ]
  },
  {
   "cell_type": "code",
   "execution_count": 11,
   "id": "d0b4a302",
   "metadata": {},
   "outputs": [
    {
     "data": {
      "text/html": [
       "<div>\n",
       "<style scoped>\n",
       "    .dataframe tbody tr th:only-of-type {\n",
       "        vertical-align: middle;\n",
       "    }\n",
       "\n",
       "    .dataframe tbody tr th {\n",
       "        vertical-align: top;\n",
       "    }\n",
       "\n",
       "    .dataframe thead th {\n",
       "        text-align: right;\n",
       "    }\n",
       "</style>\n",
       "<table border=\"1\" class=\"dataframe\">\n",
       "  <thead>\n",
       "    <tr style=\"text-align: right;\">\n",
       "      <th></th>\n",
       "      <th>resume_text</th>\n",
       "      <th>job_role</th>\n",
       "    </tr>\n",
       "  </thead>\n",
       "  <tbody>\n",
       "    <tr>\n",
       "      <th>0</th>\n",
       "      <td>ACCOUNTANT\\nSummary\\nFinancial Accountant spec...</td>\n",
       "      <td>ACCOUNTANT</td>\n",
       "    </tr>\n",
       "    <tr>\n",
       "      <th>1</th>\n",
       "      <td>STAFF ACCOUNTANT\\nSummary\\nHighly analytical a...</td>\n",
       "      <td>ACCOUNTANT</td>\n",
       "    </tr>\n",
       "    <tr>\n",
       "      <th>2</th>\n",
       "      <td>ACCOUNTANT\\nProfessional Summary\\nTo obtain a ...</td>\n",
       "      <td>ACCOUNTANT</td>\n",
       "    </tr>\n",
       "    <tr>\n",
       "      <th>3</th>\n",
       "      <td>SENIOR ACCOUNTANT\\nExperience\\nCompany Name Ju...</td>\n",
       "      <td>ACCOUNTANT</td>\n",
       "    </tr>\n",
       "    <tr>\n",
       "      <th>4</th>\n",
       "      <td>SENIOR ACCOUNTANT\\nProfessional Summary\\nSenio...</td>\n",
       "      <td>ACCOUNTANT</td>\n",
       "    </tr>\n",
       "    <tr>\n",
       "      <th>...</th>\n",
       "      <td>...</td>\n",
       "      <td>...</td>\n",
       "    </tr>\n",
       "    <tr>\n",
       "      <th>2479</th>\n",
       "      <td>READING TEACHER\\nSummary\\nI am a highly motiva...</td>\n",
       "      <td>TEACHER</td>\n",
       "    </tr>\n",
       "    <tr>\n",
       "      <th>2480</th>\n",
       "      <td>HISTORY TEACHER\\nProfessional Summary\\nTo be e...</td>\n",
       "      <td>TEACHER</td>\n",
       "    </tr>\n",
       "    <tr>\n",
       "      <th>2481</th>\n",
       "      <td>TEACHER\\nSummary\\nHighly ethical, dependable, ...</td>\n",
       "      <td>TEACHER</td>\n",
       "    </tr>\n",
       "    <tr>\n",
       "      <th>2482</th>\n",
       "      <td>TEACHER\\nSummary\\nTalented early education pro...</td>\n",
       "      <td>TEACHER</td>\n",
       "    </tr>\n",
       "    <tr>\n",
       "      <th>2483</th>\n",
       "      <td>Kpandipou Koffi\\nSummary\\nCompassionate teachi...</td>\n",
       "      <td>TEACHER</td>\n",
       "    </tr>\n",
       "  </tbody>\n",
       "</table>\n",
       "<p>2484 rows × 2 columns</p>\n",
       "</div>"
      ],
      "text/plain": [
       "                                            resume_text    job_role\n",
       "0     ACCOUNTANT\\nSummary\\nFinancial Accountant spec...  ACCOUNTANT\n",
       "1     STAFF ACCOUNTANT\\nSummary\\nHighly analytical a...  ACCOUNTANT\n",
       "2     ACCOUNTANT\\nProfessional Summary\\nTo obtain a ...  ACCOUNTANT\n",
       "3     SENIOR ACCOUNTANT\\nExperience\\nCompany Name Ju...  ACCOUNTANT\n",
       "4     SENIOR ACCOUNTANT\\nProfessional Summary\\nSenio...  ACCOUNTANT\n",
       "...                                                 ...         ...\n",
       "2479  READING TEACHER\\nSummary\\nI am a highly motiva...     TEACHER\n",
       "2480  HISTORY TEACHER\\nProfessional Summary\\nTo be e...     TEACHER\n",
       "2481  TEACHER\\nSummary\\nHighly ethical, dependable, ...     TEACHER\n",
       "2482  TEACHER\\nSummary\\nTalented early education pro...     TEACHER\n",
       "2483  Kpandipou Koffi\\nSummary\\nCompassionate teachi...     TEACHER\n",
       "\n",
       "[2484 rows x 2 columns]"
      ]
     },
     "execution_count": 11,
     "metadata": {},
     "output_type": "execute_result"
    }
   ],
   "source": [
    "df"
   ]
  },
  {
   "cell_type": "code",
   "execution_count": 14,
   "id": "ccf92ad9",
   "metadata": {},
   "outputs": [
    {
     "data": {
      "text/plain": [
       "24159"
      ]
     },
     "execution_count": 14,
     "metadata": {},
     "output_type": "execute_result"
    }
   ],
   "source": [
    "len(df[\"resume_text\"][0])"
   ]
  },
  {
   "cell_type": "code",
   "execution_count": 15,
   "id": "fcfda8dc",
   "metadata": {},
   "outputs": [],
   "source": [
    "df.to_csv(\"../data/processed/resume_data.csv\", index=False)"
   ]
  },
  {
   "cell_type": "markdown",
   "id": "bca092ab-749f-4ab4-915e-fa5f6ae5452e",
   "metadata": {},
   "source": [
    "We have save these dataframe for further use"
   ]
  },
  {
   "cell_type": "code",
   "execution_count": null,
   "id": "4366be32-d913-4434-a3ae-3e0c7595e409",
   "metadata": {},
   "outputs": [],
   "source": []
  }
 ],
 "metadata": {
  "kernelspec": {
   "display_name": "Python 3 (ipykernel)",
   "language": "python",
   "name": "python3"
  },
  "language_info": {
   "codemirror_mode": {
    "name": "ipython",
    "version": 3
   },
   "file_extension": ".py",
   "mimetype": "text/x-python",
   "name": "python",
   "nbconvert_exporter": "python",
   "pygments_lexer": "ipython3",
   "version": "3.11.7"
  }
 },
 "nbformat": 4,
 "nbformat_minor": 5
}
