{
 "cells": [
  {
   "cell_type": "markdown",
   "id": "14bbb59f-71dd-493f-a6f0-0d2f851e15de",
   "metadata": {},
   "source": [
    "# Data Preprocessing"
   ]
  },
  {
   "cell_type": "code",
   "execution_count": 14,
   "id": "e7671bf5-19d8-4ec4-8590-e4f83d381487",
   "metadata": {
    "scrolled": true
   },
   "outputs": [
    {
     "name": "stderr",
     "output_type": "stream",
     "text": [
      "[nltk_data] Downloading package stopwords to C:\\Users\\kuldeep\n",
      "[nltk_data]     verma\\AppData\\Roaming\\nltk_data...\n",
      "[nltk_data]   Package stopwords is already up-to-date!\n",
      "[nltk_data] Downloading package wordnet to C:\\Users\\kuldeep\n",
      "[nltk_data]     verma\\AppData\\Roaming\\nltk_data...\n",
      "[nltk_data]   Package wordnet is already up-to-date!\n"
     ]
    },
    {
     "data": {
      "text/plain": [
       "True"
      ]
     },
     "execution_count": 14,
     "metadata": {},
     "output_type": "execute_result"
    }
   ],
   "source": [
    "import os\n",
    "import re\n",
    "import pandas as pd\n",
    "import numpy as np\n",
    "import string\n",
    "import nltk\n",
    "from nltk.corpus import stopwords\n",
    "from nltk.stem import WordNetLemmatizer\n",
    "from bs4 import BeautifulSoup\n",
    "from sklearn.model_selection import train_test_split\n",
    "\n",
    "\n",
    "nltk.download(\"stopwords\")\n",
    "nltk.download(\"wordnet\")"
   ]
  },
  {
   "cell_type": "markdown",
   "id": "8e88d841-f126-4f6b-862a-ba76f40094c4",
   "metadata": {},
   "source": [
    "load data in dataframne"
   ]
  },
  {
   "cell_type": "code",
   "execution_count": 15,
   "id": "2386ffd8-b3dc-4315-a7e5-26b0d01034d9",
   "metadata": {},
   "outputs": [],
   "source": [
    "df=pd.read_csv(\"../data/processed/cleaned_data.csv\")"
   ]
  },
  {
   "cell_type": "code",
   "execution_count": 16,
   "id": "a43e28d3-4416-475f-b973-f41f403e983d",
   "metadata": {},
   "outputs": [],
   "source": [
    "lemmatizer = WordNetLemmatizer()\n",
    "stop_words = set(stopwords.words(\"english\"))"
   ]
  },
  {
   "cell_type": "markdown",
   "id": "6bad8f2b-02ed-4110-bae4-cf9ba4d286e6",
   "metadata": {},
   "source": [
    "### Create some function for data preprocessing"
   ]
  },
  {
   "cell_type": "code",
   "execution_count": 1,
   "id": "10cd0b5c-ee89-4b71-8edf-51db66155731",
   "metadata": {},
   "outputs": [],
   "source": [
    "def clean_html(text):\n",
    "    return BeautifulSoup(text, \"html.parser\").get_text()"
   ]
  },
  {
   "cell_type": "markdown",
   "id": "f2ae4a6a-f429-4a22-a0df-98af826d4f2f",
   "metadata": {},
   "source": [
    "Create A function that have remove html tags form  text"
   ]
  },
  {
   "cell_type": "code",
   "execution_count": 2,
   "id": "50faba2d-45c5-45bb-9415-347ce39234e2",
   "metadata": {},
   "outputs": [],
   "source": [
    "def remove_special_chars(text):\n",
    "    return re.sub(r\"[^a-zA-Z\\s]\", \"\", text)"
   ]
  },
  {
   "cell_type": "markdown",
   "id": "c36dc2eb-1d10-4bc6-b411-c32817f9c899",
   "metadata": {},
   "source": [
    "These function remove all special character from text"
   ]
  },
  {
   "cell_type": "code",
   "execution_count": 3,
   "id": "ab377414-7f6f-47b0-b930-c56988c16723",
   "metadata": {},
   "outputs": [],
   "source": [
    "def to_lower(text):\n",
    "    return text.lower()"
   ]
  },
  {
   "cell_type": "markdown",
   "id": "407f9a29-fb05-4871-812b-165cdb19c798",
   "metadata": {},
   "source": [
    "These function lower the text for case sensitive problem"
   ]
  },
  {
   "cell_type": "code",
   "execution_count": 22,
   "id": "a048d2de-0118-4a19-8cc6-08be247b3eec",
   "metadata": {},
   "outputs": [],
   "source": [
    "def remove_stopwords(text):\n",
    "    tokens = text.split()\n",
    "    tokens = [word for word in tokens if word not in stop_words]\n",
    "    return \" \".join(tokens)"
   ]
  },
  {
   "cell_type": "markdown",
   "id": "6eca5955-1ba1-4c3e-b5e1-8844abec6c2b",
   "metadata": {},
   "source": [
    "These function remove stopwords from text"
   ]
  },
  {
   "cell_type": "code",
   "execution_count": 4,
   "id": "2afe331c-f6a7-40cb-9caa-84ea493b415c",
   "metadata": {},
   "outputs": [],
   "source": [
    "def lemmatize_text(text):\n",
    "    tokens = text.split()\n",
    "    tokens = [lemmatizer.lemmatize(word) for word in tokens]\n",
    "    return \" \".join(tokens)"
   ]
  },
  {
   "cell_type": "markdown",
   "id": "b428cb78-9a1b-475b-9f17-4129414b995b",
   "metadata": {},
   "source": [
    "These function create root word from  text to solve problem of same word with different forms"
   ]
  },
  {
   "cell_type": "code",
   "execution_count": 7,
   "id": "4684344e-05ea-48bf-bf7c-e0a1893179bb",
   "metadata": {},
   "outputs": [],
   "source": [
    "def preprocess_text(text):\n",
    "    text = clean_html(text)\n",
    "    text = remove_special_chars(text)\n",
    "    text = to_lower(text)\n",
    "    text = remove_stopwords(text)\n",
    "    text = lemmatize_text(text)\n",
    "    return text"
   ]
  },
  {
   "cell_type": "markdown",
   "id": "ec30ea40-6d48-4423-8b03-3d5de13a6fc8",
   "metadata": {},
   "source": [
    "These function apply all function to the text"
   ]
  },
  {
   "cell_type": "code",
   "execution_count": 25,
   "id": "42291474-a2ec-44e4-afd1-5b7bc7e4164d",
   "metadata": {},
   "outputs": [],
   "source": [
    "df[\"cleaned_text\"] = df[\"resume_text\"].astype(str).apply(preprocess_text)"
   ]
  },
  {
   "cell_type": "markdown",
   "id": "cf66240c-d24c-416d-bacc-424daad54182",
   "metadata": {},
   "source": [
    "Now finally  we have apply above all function to our text using apply pre-built function "
   ]
  },
  {
   "cell_type": "code",
   "execution_count": 26,
   "id": "062de4ea-a6d6-450a-a4d9-aa99b181b4f0",
   "metadata": {},
   "outputs": [
    {
     "data": {
      "text/html": [
       "<div>\n",
       "<style scoped>\n",
       "    .dataframe tbody tr th:only-of-type {\n",
       "        vertical-align: middle;\n",
       "    }\n",
       "\n",
       "    .dataframe tbody tr th {\n",
       "        vertical-align: top;\n",
       "    }\n",
       "\n",
       "    .dataframe thead th {\n",
       "        text-align: right;\n",
       "    }\n",
       "</style>\n",
       "<table border=\"1\" class=\"dataframe\">\n",
       "  <thead>\n",
       "    <tr style=\"text-align: right;\">\n",
       "      <th></th>\n",
       "      <th>Unnamed: 0</th>\n",
       "      <th>resume_text</th>\n",
       "      <th>job_role</th>\n",
       "      <th>text_length</th>\n",
       "      <th>char_length</th>\n",
       "      <th>cleaned_text</th>\n",
       "    </tr>\n",
       "  </thead>\n",
       "  <tbody>\n",
       "    <tr>\n",
       "      <th>0</th>\n",
       "      <td>0</td>\n",
       "      <td>ACCOUNTANT\\nSummary\\nFinancial Accountant spec...</td>\n",
       "      <td>ACCOUNTANT</td>\n",
       "      <td>3466</td>\n",
       "      <td>24159</td>\n",
       "      <td>accountant summary financial accountant specia...</td>\n",
       "    </tr>\n",
       "    <tr>\n",
       "      <th>1</th>\n",
       "      <td>1</td>\n",
       "      <td>STAFF ACCOUNTANT\\nSummary\\nHighly analytical a...</td>\n",
       "      <td>ACCOUNTANT</td>\n",
       "      <td>1047</td>\n",
       "      <td>7493</td>\n",
       "      <td>staff accountant summary highly analytical det...</td>\n",
       "    </tr>\n",
       "    <tr>\n",
       "      <th>2</th>\n",
       "      <td>2</td>\n",
       "      <td>ACCOUNTANT\\nProfessional Summary\\nTo obtain a ...</td>\n",
       "      <td>ACCOUNTANT</td>\n",
       "      <td>628</td>\n",
       "      <td>4749</td>\n",
       "      <td>accountant professional summary obtain positio...</td>\n",
       "    </tr>\n",
       "    <tr>\n",
       "      <th>3</th>\n",
       "      <td>3</td>\n",
       "      <td>SENIOR ACCOUNTANT\\nExperience\\nCompany Name Ju...</td>\n",
       "      <td>ACCOUNTANT</td>\n",
       "      <td>849</td>\n",
       "      <td>5922</td>\n",
       "      <td>senior accountant experience company name june...</td>\n",
       "    </tr>\n",
       "    <tr>\n",
       "      <th>4</th>\n",
       "      <td>4</td>\n",
       "      <td>SENIOR ACCOUNTANT\\nProfessional Summary\\nSenio...</td>\n",
       "      <td>ACCOUNTANT</td>\n",
       "      <td>783</td>\n",
       "      <td>5574</td>\n",
       "      <td>senior accountant professional summary senior ...</td>\n",
       "    </tr>\n",
       "    <tr>\n",
       "      <th>...</th>\n",
       "      <td>...</td>\n",
       "      <td>...</td>\n",
       "      <td>...</td>\n",
       "      <td>...</td>\n",
       "      <td>...</td>\n",
       "      <td>...</td>\n",
       "    </tr>\n",
       "    <tr>\n",
       "      <th>2476</th>\n",
       "      <td>2479</td>\n",
       "      <td>READING TEACHER\\nSummary\\nI am a highly motiva...</td>\n",
       "      <td>TEACHER</td>\n",
       "      <td>845</td>\n",
       "      <td>6078</td>\n",
       "      <td>reading teacher summary highly motivated educa...</td>\n",
       "    </tr>\n",
       "    <tr>\n",
       "      <th>2477</th>\n",
       "      <td>2480</td>\n",
       "      <td>HISTORY TEACHER\\nProfessional Summary\\nTo be e...</td>\n",
       "      <td>TEACHER</td>\n",
       "      <td>1165</td>\n",
       "      <td>9197</td>\n",
       "      <td>history teacher professional summary employed ...</td>\n",
       "    </tr>\n",
       "    <tr>\n",
       "      <th>2478</th>\n",
       "      <td>2481</td>\n",
       "      <td>TEACHER\\nSummary\\nHighly ethical, dependable, ...</td>\n",
       "      <td>TEACHER</td>\n",
       "      <td>926</td>\n",
       "      <td>6611</td>\n",
       "      <td>teacher summary highly ethical dependable dili...</td>\n",
       "    </tr>\n",
       "    <tr>\n",
       "      <th>2479</th>\n",
       "      <td>2482</td>\n",
       "      <td>TEACHER\\nSummary\\nTalented early education pro...</td>\n",
       "      <td>TEACHER</td>\n",
       "      <td>663</td>\n",
       "      <td>5163</td>\n",
       "      <td>teacher summary talented early education profe...</td>\n",
       "    </tr>\n",
       "    <tr>\n",
       "      <th>2480</th>\n",
       "      <td>2483</td>\n",
       "      <td>Kpandipou Koffi\\nSummary\\nCompassionate teachi...</td>\n",
       "      <td>TEACHER</td>\n",
       "      <td>681</td>\n",
       "      <td>5276</td>\n",
       "      <td>kpandipou koffi summary compassionate teaching...</td>\n",
       "    </tr>\n",
       "  </tbody>\n",
       "</table>\n",
       "<p>2481 rows × 6 columns</p>\n",
       "</div>"
      ],
      "text/plain": [
       "      Unnamed: 0                                        resume_text  \\\n",
       "0              0  ACCOUNTANT\\nSummary\\nFinancial Accountant spec...   \n",
       "1              1  STAFF ACCOUNTANT\\nSummary\\nHighly analytical a...   \n",
       "2              2  ACCOUNTANT\\nProfessional Summary\\nTo obtain a ...   \n",
       "3              3  SENIOR ACCOUNTANT\\nExperience\\nCompany Name Ju...   \n",
       "4              4  SENIOR ACCOUNTANT\\nProfessional Summary\\nSenio...   \n",
       "...          ...                                                ...   \n",
       "2476        2479  READING TEACHER\\nSummary\\nI am a highly motiva...   \n",
       "2477        2480  HISTORY TEACHER\\nProfessional Summary\\nTo be e...   \n",
       "2478        2481  TEACHER\\nSummary\\nHighly ethical, dependable, ...   \n",
       "2479        2482  TEACHER\\nSummary\\nTalented early education pro...   \n",
       "2480        2483  Kpandipou Koffi\\nSummary\\nCompassionate teachi...   \n",
       "\n",
       "        job_role  text_length  char_length  \\\n",
       "0     ACCOUNTANT         3466        24159   \n",
       "1     ACCOUNTANT         1047         7493   \n",
       "2     ACCOUNTANT          628         4749   \n",
       "3     ACCOUNTANT          849         5922   \n",
       "4     ACCOUNTANT          783         5574   \n",
       "...          ...          ...          ...   \n",
       "2476     TEACHER          845         6078   \n",
       "2477     TEACHER         1165         9197   \n",
       "2478     TEACHER          926         6611   \n",
       "2479     TEACHER          663         5163   \n",
       "2480     TEACHER          681         5276   \n",
       "\n",
       "                                           cleaned_text  \n",
       "0     accountant summary financial accountant specia...  \n",
       "1     staff accountant summary highly analytical det...  \n",
       "2     accountant professional summary obtain positio...  \n",
       "3     senior accountant experience company name june...  \n",
       "4     senior accountant professional summary senior ...  \n",
       "...                                                 ...  \n",
       "2476  reading teacher summary highly motivated educa...  \n",
       "2477  history teacher professional summary employed ...  \n",
       "2478  teacher summary highly ethical dependable dili...  \n",
       "2479  teacher summary talented early education profe...  \n",
       "2480  kpandipou koffi summary compassionate teaching...  \n",
       "\n",
       "[2481 rows x 6 columns]"
      ]
     },
     "execution_count": 26,
     "metadata": {},
     "output_type": "execute_result"
    }
   ],
   "source": [
    "df"
   ]
  },
  {
   "cell_type": "code",
   "execution_count": 12,
   "id": "46a46af1-69e6-43c5-8e73-5bca3ac9db32",
   "metadata": {},
   "outputs": [
    {
     "data": {
      "text/plain": [
       "'accountant summary financial accountant specializing financial planning reporting analysis within department defense highlight account reconciliation resultsoriented financial reporting critical thinking accounting operation professional analysis financial system erp enterprise resource planning software excellent facilitator accomplishment served tiger team identified resolved general ledger posting deams totaling b accounting adjustment allowed first successful fiscal yearend close collaboration dfas europe developed automated tool identified duplicate obligation tool allowed hq usafe deobligate duplicate obligation experience company name july november accountant city state enterprise resource planning office ero position accountant assigned defense enterprise accounting management system deams ero responsible identifying resolving issue affecting deams general ledger worked teammate procure pay order cash budget report area resolve daily challenge encountered deployment deams additional customer system change request promoted production supported testing script patch system change request ensuring anomaly identified deams functional management office action deams program management office andor system integrator addition served tiger team designed identify resolve general ledger posting difference supported development b accounting adjustment allowing first successful fiscal yearend close action also allowed reconciliation closure fiscal year accounting adjustment ensuring deams fiscal yearend requirement completed action recognized critical successful review report issued air force operational test evaluation center afotec resulting air force receiving authority continue deployment deams company name april june resource advisor city state position resource advisor st air communication operation squadron acos responsible providing financial advice decision support commander responsible coordinating budget four funding source coordinated usafe directorate intelligence usafea usafe directorate air space operation usafea usafe directorate communication usafea th air ground operation wing ensure acos meet mission requirement consistently managed three separate timeline providing budgetunfunded requirement providing documentation various report required format organization discussed outcome group directorate budget meeting providing feedback day flight chief cc issue affect acos directly monitored defense travel system dts daily identify order authorization needing approval provided notification appropriate reviewing official approver utilizing dts general accounting finance system reviewed status report identify anomaly obligation identified order require correction prior payment provided government purchase card gpc status report day requested addition communicated appropriate cardholder change required support program identified cardholder training requirement monitored requirement ensure required training completed support mission critical program developed guidance gpc cardholder procedure requesting training squadron addition provided answer cardholder question unique nonstandard issuesconcerns assumed role billing official final rating period completed self inspection program management control program zero finding yearly audit th con received zero finding company name july april staff accountant city state position staff accountant hq usafe responsible providing accounting financial oversight advice customer throughout command support usafe comptroller responsible performing ongoing analysis financial program identify negative trend weakness ensured specific weakness corrected determined whether systemic repeat issue identified adequately addressed required apply comprehensive knowledge analysisreporting requirement data produced resolve issue collaboration dfas europe developed automated tool identifies duplicate obligation comparing record accounting system contracting system provided notification fund manager review resolution tool eliminated hour manual research result allowed hq usafe deobligate duplicate obligation responsible establishing various performance metric ensured effective efficient use usafe financial resource supported usafefma financial metric program collaborating dfas limestone development automated tool provided senior leader visibility usafe unit compliance established rule regulation related gpc tool provides management report used populate monthly metric chart briefed usafefma tool provided capability usafefma collaborate usafe contracting developdeploy joint guidance support established air force instruction mandating card suspension card holder compliance required reservation fund entitlement system support gpc identified resolved problem five gpc account rejecting automated interface process month research revealed account rejecting invalid paying station required manual intervention wing dfas personnel created rework delayed payment invoice partnered dfas denver corrected record access online account eliminating error condition identified method deliver oneonone training support usafe deployment open document analysis oda tool fmsuite utilizing defense connect online provided training remotely virtually eliminating need expend fund temporary duty tdy travel result training produced result went well expectation noted oda program management office company name january july chief report branch account maintenance control city state position chief report branch account maintenance control amc responsible ensuring development standardization various managerial system report responsible completeness accuracy weekly monthly quarterly semiannual annual report branch monitored error general accounting finance system gafsbq ensured corrective action accomplished also ensured fund balance reconciled report verified prior release base activity higher headquarters limestone reorganized high performing organization hpo january time reassigned amc directorate previously exist challenge time staff branch implement aggressive training schedule ensure continuity financial reporting maintained transitioned hpo continued defining mission function amc entire network participated biweekly conference call standard compliance effort define mission function amc worked management determining ftes needed branch responsible developing meaningful performance standard employee since branch function previously exist limestone poc initiative eliminate suspense account throughout agency identified suspense account initially targeted formulated strategy eliminate account requested waiver participated plan modify process using suspense account interfund suspense account action provided initial progress towards meeting department treasury mandate discontinue suspense account february worked staff reduce reconciliation million february million august accomplished despite loss experienced personnel realigning resource support critical initiative account payable orchestrated transition reporting requirement transportation financial management system tfms workload dfas omaha limestone transition limestone encouraged staff responsible report streamline process staff automated completely manual time consuming process thus eliminating potential key stroke error manually validating numerous spreadsheet listing contributor federal manager financial integrity act fmfia compliance review establishment assessable unit identified inconsistency information provided staff foreign currency fluctuation adjustment persisted getting higher level review regulatory policy guidance report foreign currency fluctuation consistently accurate company name february january chief account payable branch city state chief account payable responsible overall management branch consisting employee four first line supervisor responsible establishing priority schedule work assignment ensuring change workload accounted minimize impact normal office operation consistently reviewed area made necessary personnel move based shifting priority extremely important dfas denver directed database consolidation assumption air national guard workload workload increased rapidly staffing increased gradually dictated frequent priority change personnel move also worked closely major command supported dfas limestone strengthening partnership workload spike negatively impacted customer december overaged invoice percentage nearing backlog vendor pay document exceeding working dfas command client executive major command comptroller instrumental forming strategy included soliciting air force personnel assistance document processing identification must pay bill formation special action response team dedicated responding customer urgent requirement result effort three month period able reduce overaged invoice percentage backlog document document day old thereby minimizing adverse impact customer fund responsible providing personnel feedback session quarterly prepared supervisory appraisal employee performance potential advancement partnering management staff employee instrumental establishing employee performance plan linked employee performance established dfas strategy balance scorecard goal position supervisory accountant responsible performing ongoing analysis vendor pay workflow production identify negative trend weakness ensure specific weakness corrected determine whether systemic repeat issue identified adequately addressed required apply comprehensive knowledge analysisreporting requirement work process vendor pay system structure data produced resolve issue utilizing expertise louis ii data retrieval software produced adhoc data query inhouse external use customer retrieval designed reduce man hour necessary perform complex finance accounting function dfas air force personnel responsible budget resource necessary operate branch capacity prepared budget execution justification plan monitor overtime cost control supply purchase ensure cost efficient operation possible required respond inquiry various source include limited vendor dfas management accounting liaison office resource advisor dfas field site inquiry required ability relay technical aspect system deficiency customer familiar operation participated video teleconference conference call briefing designed address customer dfas management requirement called upon explain layman term dfas policy procedure regard delay payment due various reason responded various audit report study ensuring senior management audit personnel understand particular situation within vendor pay business process result finding company name february february chief recon report branch city state position chief vendor pay report recon branch exercised supervision either directly indirectly employee primarily series grade ranging g g responsibility also included supervision german local national worker assigned duty section responsible planning directing supervising activity work force review interpretation processing reconciliation vendor pay accounting data production timely accurate financial statement report requirement participated development branch policy continually reviewing evaluating organizational operation work distribution procedure coordinated activity assigned function organization obtain effective correlation financial data directed provided technical guidance subordinate assigned area assured timeliness accuracy assigned workload planned organized directed coordinated reviewed work subordinate section ensuring mission function division carried managed realigned resource conducted program analysis made decision accordance unit cost principle output target changing budgetary constraint participated long range planning goal setting evaluating subordinate staff interpreted clarified branch policy resolved operational problem ensured efficient utilization professional development staff expected provide reasonable assurance operation conducted compliance applicable law fund property asset safeguarded waste loss unauthorized use misappropriation ensured continuing affirmative application support dod dfas policy concerning equal opportunity affirmative action program ensured personnel management within organizational entity supervision accomplished without regard race color religion sex age national origin handicap kept abreast development policy issuance similar material equal opportunity field fully supported dod dfas equal opportunity program responsible accountable safety health subordinate ensured personnel trained work safely enforced safety health rule corrected unsafe unhealthy act unsafe unhealthy mechanical physical condition investigated mishap tool action necessary ensure safety health employee company name june february chief account payable branch city state responsible establishing priority schedule work assignment ensuring change workload accounted minimize impact normal office operation important dfas denver directed workload realighment field site servicing customer major command workload increased dictated frequent priority change personnel move also worked closely major command supported dfas limestone strengthening partnership workload spike negatively impacted customer responsible providing personnel feedback session quarterly preparedsupervisory appraisal employee performance potential advancement supervisory accountant responsible performing ongoing analysis vendor pay workflow production identified negative trend weakness ensured specific weakness corrected determine whether systemic repeat issue identified adequately addressed required apply comprehensive knowledge analysisreporting requirement work process vendor pay system structure data produced resolve issue utilizing knowledge louis ii data retrieval software produced adhoc data query inhouse external use customer retrieval designed reduce man hour necessary perform complex finance accounting function dfas air force personnel responsible budget resource necessary operate branch capacity prepared budget execution justification plan monitor overtime cost control supply purchase ensure cost efficient operation possible required respond inquiry various source include limited vendor dfas management accounting liaison office resource advisor dfas field site inquiry require ability relay technical aspect system deficiency customer familiar operation participated video teleconference conference call briefing designed address customer dfas management requirement often called upon explain layman term dfas policy procedure regard delay payment due various reason required respond various audit report study ensuring senior management audit personnel understand particular situation within vendor pay business process result finding hand selected field site director vendor pay site manager represent dfas limestone team comprised representative dfas denver field site provide training air force base level resource advisor five week period provided boot camp training base level personnel ensuring resource advisor familiar dfas structure mission requirement related fund management company name june june accountant network assistant team city state member network assistance team required extensive working knowledge dod accounting system theory policy procedure consistently called upon develop implement procedure consistent dod regulation coordinated dfas denver omaha field site consolidation first geographically separated defense accounting office dfas position member network assistance team required upon arrival base level defense accounting office dao provide inbrief briefing identified team member purpose visit goal responsibility upon completion assignment provided written oral outbrief outlining team accomplishment visit provided recommendation preclude recurring problem prepare organization consolidation company name june june supervisor account control branch city state directedsupervised accomplishment ofallfinancialreports statement directedsupervised accomplishment financial report statement responsible completeness accuracy weekly monthly quarterly semiannual annual report monitored error general accounting finance system gafsbq ensured corrective action accomplished also ensured fund balance reconciled appropriate audit listing verified report prior release base activity higher headquarters furnished accounting data base organization often interpreting analyzing data help fund manager resolve problem manage program effectively attended major command majcom headquarters level workshop participate contribute accounting policy system change provided professional assistance data automation relevant processing accounting finance data interpreting deficiency software based output product system related problem utilized working knowledge commercial government accounting system principle knowledge processing center pc review verify analyze evaluate accounting finance operation serving chief account control ensured area concern addressed concentrating problem area related database analyzed computer output product determine processing deficiency included limited open document listing odl operating budget ledger obl allotment ledger al accounting finance workload information management system af wims extract list provided technical assistance related policy procedural change required result impending base closure analyzeddeveloped recommended improved training procedure enabling better use system procedure ensuring governing directive followed evaluated accuracy accounting record prior fiscal year closeout ensuring accounting finance officer could certify accuracy required regulation examined accounting transaction document ensure conformed established accounting policy principle coordinated directed fiscal year end conversion gafs integrated account payable system iaps education northern maine community college associate accounting city state usa emphasis business associate accounting city state usa gpa gpa accounting gpa hour quarter attended husson college major accounting semester hour toward bachelor degree professional military comptroller school wk managerial accounting interestedbased bargaining training management hr auditing method concept organizational leadership hr management development ii hr certification certified defense financial manager cdfm may interest american society military comptroller additional information skill accounting general accounting account payable program management'"
      ]
     },
     "execution_count": 12,
     "metadata": {},
     "output_type": "execute_result"
    }
   ],
   "source": [
    "df[\"cleaned_text\"][0]"
   ]
  },
  {
   "cell_type": "code",
   "execution_count": 27,
   "id": "d7facac7-1c8d-4887-92a5-986c080fddb9",
   "metadata": {},
   "outputs": [],
   "source": [
    "df.to_csv(\"../data/processed/preproced_data.csv\")"
   ]
  },
  {
   "cell_type": "markdown",
   "id": "f8b016d7-afed-4980-87e6-f57ee702da9c",
   "metadata": {},
   "source": [
    "and finlly we have save our preprocess data to csv file for further use and rest of text preprocessing we have apply during model building in different file according to type of preprocessing "
   ]
  },
  {
   "cell_type": "markdown",
   "id": "9601eb33-1ac6-4fd1-9fb0-3426036da04e",
   "metadata": {},
   "source": []
  },
  {
   "cell_type": "code",
   "execution_count": null,
   "id": "f435ee84-2ad4-4de8-9147-14332584657a",
   "metadata": {},
   "outputs": [],
   "source": []
  }
 ],
 "metadata": {
  "kernelspec": {
   "display_name": "Python 3 (ipykernel)",
   "language": "python",
   "name": "python3"
  },
  "language_info": {
   "codemirror_mode": {
    "name": "ipython",
    "version": 3
   },
   "file_extension": ".py",
   "mimetype": "text/x-python",
   "name": "python",
   "nbconvert_exporter": "python",
   "pygments_lexer": "ipython3",
   "version": "3.11.7"
  }
 },
 "nbformat": 4,
 "nbformat_minor": 5
}
