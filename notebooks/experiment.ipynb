{
 "cells": [
  {
   "cell_type": "code",
   "execution_count": null,
   "metadata": {
    "_cell_guid": "b1076dfc-b9ad-4769-8c92-a6c4dae69d19",
    "_uuid": "8f2839f25d086af736a60e9eeb907d3b93b6e0e5",
    "trusted": true
   },
   "outputs": [],
   "source": [
    "# This Python 3 environment comes with many helpful analytics libraries installed\n",
    "# It is defined by the kaggle/python Docker image: https://github.com/kaggle/docker-python\n",
    "# For example, here's several helpful packages to load\n",
    "\n",
    "import numpy as np # linear algebra\n",
    "import pandas as pd # data processing, CSV file I/O (e.g. pd.read_csv)\n",
    "\n",
    "# Input data files are available in the read-only \"../input/\" directory\n",
    "# For example, running this (by clicking run or pressing Shift+Enter) will list all files under the input directory\n",
    "\n",
    "import os\n",
    "for dirname, _, filenames in os.walk('/kaggle/input'):\n",
    "    for filename in filenames:\n",
    "        print(os.path.join(dirname, filename))\n",
    "\n",
    "# You can write up to 20GB to the current directory (/kaggle/working/) that gets preserved as output when you create a version using \"Save & Run All\" \n",
    "# You can also write temporary files to /kaggle/temp/, but they won't be saved outside of the current session"
   ]
  },
  {
   "cell_type": "code",
   "execution_count": 1,
   "metadata": {
    "execution": {
     "iopub.execute_input": "2025-05-15T13:34:16.912807Z",
     "iopub.status.busy": "2025-05-15T13:34:16.912289Z",
     "iopub.status.idle": "2025-05-15T13:34:18.568556Z",
     "shell.execute_reply": "2025-05-15T13:34:18.567935Z",
     "shell.execute_reply.started": "2025-05-15T13:34:16.912780Z"
    },
    "trusted": true
   },
   "outputs": [],
   "source": [
    "import pandas as pd\n",
    "import numpy as np\n",
    "from sklearn.model_selection import train_test_split, GridSearchCV\n",
    "from sklearn.feature_extraction.text import TfidfVectorizer\n",
    "from sklearn.linear_model import LogisticRegression, LogisticRegressionCV\n",
    "from sklearn.ensemble import RandomForestClassifier, GradientBoostingClassifier, StackingClassifier\n",
    "from xgboost import XGBClassifier\n",
    "from imblearn.over_sampling import SMOTE\n",
    "from sklearn.metrics import classification_report, confusion_matrix, accuracy_score\n",
    "import matplotlib.pyplot as plt\n",
    "import seaborn as sns\n",
    "from nltk.corpus import stopwords\n",
    "from nltk.stem import WordNetLemmatizer\n",
    "import re\n",
    "import nltk\n",
    "from sklearn.preprocessing import LabelEncoder"
   ]
  },
  {
   "cell_type": "markdown",
   "metadata": {},
   "source": [
    "# Download NLTK resources"
   ]
  },
  {
   "cell_type": "code",
   "execution_count": 2,
   "metadata": {
    "execution": {
     "iopub.execute_input": "2025-05-15T13:36:06.209674Z",
     "iopub.status.busy": "2025-05-15T13:36:06.208954Z",
     "iopub.status.idle": "2025-05-15T13:36:06.293524Z",
     "shell.execute_reply": "2025-05-15T13:36:06.292944Z",
     "shell.execute_reply.started": "2025-05-15T13:36:06.209649Z"
    },
    "trusted": true
   },
   "outputs": [
    {
     "name": "stderr",
     "output_type": "stream",
     "text": [
      "[nltk_data] Downloading package stopwords to /usr/share/nltk_data...\n",
      "[nltk_data]   Package stopwords is already up-to-date!\n",
      "[nltk_data] Downloading package wordnet to /usr/share/nltk_data...\n",
      "[nltk_data]   Package wordnet is already up-to-date!\n"
     ]
    },
    {
     "data": {
      "text/plain": [
       "True"
      ]
     },
     "execution_count": 2,
     "metadata": {},
     "output_type": "execute_result"
    }
   ],
   "source": [
    "\n",
    "nltk.download('stopwords')\n",
    "nltk.download('wordnet') "
   ]
  },
  {
   "cell_type": "markdown",
   "metadata": {},
   "source": [
    "# Load the data"
   ]
  },
  {
   "cell_type": "code",
   "execution_count": 9,
   "metadata": {
    "execution": {
     "iopub.execute_input": "2025-05-15T13:37:07.038116Z",
     "iopub.status.busy": "2025-05-15T13:37:07.037462Z",
     "iopub.status.idle": "2025-05-15T13:37:07.702738Z",
     "shell.execute_reply": "2025-05-15T13:37:07.702180Z",
     "shell.execute_reply.started": "2025-05-15T13:37:07.038087Z"
    },
    "trusted": true
   },
   "outputs": [],
   "source": [
    "\n",
    "data = pd.read_csv('/kaggle/input/resume-preprocess/preproced_data.csv')\n",
    "X = data['cleaned_text']\n",
    "y = data['job_role']"
   ]
  },
  {
   "cell_type": "markdown",
   "metadata": {},
   "source": [
    "# Text Preprocessing Function"
   ]
  },
  {
   "cell_type": "code",
   "execution_count": 10,
   "metadata": {
    "execution": {
     "iopub.execute_input": "2025-05-15T13:37:10.822994Z",
     "iopub.status.busy": "2025-05-15T13:37:10.822418Z",
     "iopub.status.idle": "2025-05-15T13:37:18.748384Z",
     "shell.execute_reply": "2025-05-15T13:37:18.747814Z",
     "shell.execute_reply.started": "2025-05-15T13:37:10.822967Z"
    },
    "trusted": true
   },
   "outputs": [],
   "source": [
    "\n",
    "def preprocess_text(text):\n",
    "    stop_words = set(stopwords.words('english'))\n",
    "    lemmatizer = WordNetLemmatizer()\n",
    "    text = re.sub(r\"[^a-zA-Z]\", \" \", text)\n",
    "    text = text.lower()\n",
    "    text = text.split()\n",
    "    text = [lemmatizer.lemmatize(word) for word in text if word not in stop_words]\n",
    "    return \" \".join(text)\n",
    "\n",
    "X = X.apply(preprocess_text)"
   ]
  },
  {
   "cell_type": "markdown",
   "metadata": {},
   "source": [
    "# Encode the categorical labels to numeric labels"
   ]
  },
  {
   "cell_type": "code",
   "execution_count": 11,
   "metadata": {
    "execution": {
     "iopub.execute_input": "2025-05-15T13:37:21.876191Z",
     "iopub.status.busy": "2025-05-15T13:37:21.875880Z",
     "iopub.status.idle": "2025-05-15T13:37:21.880653Z",
     "shell.execute_reply": "2025-05-15T13:37:21.879869Z",
     "shell.execute_reply.started": "2025-05-15T13:37:21.876172Z"
    },
    "trusted": true
   },
   "outputs": [],
   "source": [
    "\n",
    "label_encoder = LabelEncoder()\n",
    "y_encoded = label_encoder.fit_transform(y)\n"
   ]
  },
  {
   "cell_type": "code",
   "execution_count": 12,
   "metadata": {
    "execution": {
     "iopub.execute_input": "2025-05-15T13:37:23.729059Z",
     "iopub.status.busy": "2025-05-15T13:37:23.728557Z",
     "iopub.status.idle": "2025-05-15T13:37:23.741967Z",
     "shell.execute_reply": "2025-05-15T13:37:23.741093Z",
     "shell.execute_reply.started": "2025-05-15T13:37:23.729036Z"
    },
    "trusted": true
   },
   "outputs": [],
   "source": [
    "# Split the data\n",
    "X_train, X_test, y_train, y_test = train_test_split(X, y_encoded, test_size=0.2, random_state=42, stratify=y_encoded)"
   ]
  },
  {
   "cell_type": "markdown",
   "metadata": {},
   "source": [
    "# Vectorize the text data"
   ]
  },
  {
   "cell_type": "code",
   "execution_count": 13,
   "metadata": {
    "execution": {
     "iopub.execute_input": "2025-05-15T13:37:25.307032Z",
     "iopub.status.busy": "2025-05-15T13:37:25.306342Z",
     "iopub.status.idle": "2025-05-15T13:37:33.479883Z",
     "shell.execute_reply": "2025-05-15T13:37:33.479330Z",
     "shell.execute_reply.started": "2025-05-15T13:37:25.307009Z"
    },
    "trusted": true
   },
   "outputs": [],
   "source": [
    "\n",
    "vectorizer = TfidfVectorizer(max_features=10000, ngram_range=(1, 3), min_df=5, max_df=0.8)\n",
    "X_train_vectorized = vectorizer.fit_transform(X_train)\n",
    "X_test_vectorized = vectorizer.transform(X_test)"
   ]
  },
  {
   "cell_type": "markdown",
   "metadata": {},
   "source": [
    "# Balance the dataset using SMOTE"
   ]
  },
  {
   "cell_type": "code",
   "execution_count": 14,
   "metadata": {
    "execution": {
     "iopub.execute_input": "2025-05-15T13:37:41.348738Z",
     "iopub.status.busy": "2025-05-15T13:37:41.348216Z",
     "iopub.status.idle": "2025-05-15T13:37:55.800622Z",
     "shell.execute_reply": "2025-05-15T13:37:55.800008Z",
     "shell.execute_reply.started": "2025-05-15T13:37:41.348718Z"
    },
    "trusted": true
   },
   "outputs": [],
   "source": [
    "\n",
    "smote = SMOTE(random_state=42)\n",
    "X_train_resampled, y_train_resampled = smote.fit_resample(X_train_vectorized, y_train)\n"
   ]
  },
  {
   "cell_type": "markdown",
   "metadata": {},
   "source": [
    "# Models"
   ]
  },
  {
   "cell_type": "code",
   "execution_count": 15,
   "metadata": {
    "execution": {
     "iopub.execute_input": "2025-05-15T13:37:55.802488Z",
     "iopub.status.busy": "2025-05-15T13:37:55.801858Z",
     "iopub.status.idle": "2025-05-15T13:37:55.807003Z",
     "shell.execute_reply": "2025-05-15T13:37:55.806248Z",
     "shell.execute_reply.started": "2025-05-15T13:37:55.802465Z"
    },
    "trusted": true
   },
   "outputs": [],
   "source": [
    "\n",
    "lr = LogisticRegressionCV(Cs=10, max_iter=500, random_state=42, cv=5, class_weight='balanced')\n",
    "rf = RandomForestClassifier(max_depth=15, n_estimators=200, random_state=42, class_weight='balanced')\n",
    "gx = XGBClassifier(n_estimators=250, learning_rate=0.05, max_depth=5, min_child_weight=3, subsample=0.8, colsample_bytree=0.8, random_state=42)\n",
    "gb = GradientBoostingClassifier(n_estimators=250, learning_rate=0.05, max_depth=5, subsample=0.8, random_state=42)\n"
   ]
  },
  {
   "cell_type": "markdown",
   "metadata": {},
   "source": [
    "# Stacking Classifier"
   ]
  },
  {
   "cell_type": "code",
   "execution_count": 18,
   "metadata": {
    "execution": {
     "iopub.execute_input": "2025-05-15T13:38:04.971333Z",
     "iopub.status.busy": "2025-05-15T13:38:04.971065Z",
     "iopub.status.idle": "2025-05-15T13:38:04.976274Z",
     "shell.execute_reply": "2025-05-15T13:38:04.975552Z",
     "shell.execute_reply.started": "2025-05-15T13:38:04.971315Z"
    },
    "trusted": true
   },
   "outputs": [],
   "source": [
    "\n",
    "estimators = [('Logistic Regression', lr), ('Random Forest', rf), ('XGBoost', gx), ('Gradient Boosting', gb)]\n",
    "stack = StackingClassifier(estimators=estimators, final_estimator=LogisticRegressionCV(cv=5, max_iter=1000, class_weight='balanced'), n_jobs=-1, cv=5)\n"
   ]
  },
  {
   "cell_type": "code",
   "execution_count": 19,
   "metadata": {
    "execution": {
     "iopub.execute_input": "2025-05-15T13:38:05.949786Z",
     "iopub.status.busy": "2025-05-15T13:38:05.949248Z",
     "iopub.status.idle": "2025-05-15T13:38:05.953394Z",
     "shell.execute_reply": "2025-05-15T13:38:05.952559Z",
     "shell.execute_reply.started": "2025-05-15T13:38:05.949759Z"
    },
    "trusted": true
   },
   "outputs": [],
   "source": [
    "models = {'Logistic Regression': lr, 'Random Forest': rf, 'XGBoost': gx, 'Gradient Boosting': gb, 'Stacking Classifier': stack}\n"
   ]
  },
  {
   "cell_type": "markdown",
   "metadata": {},
   "source": [
    "# Training and Evaluation"
   ]
  },
  {
   "cell_type": "code",
   "execution_count": null,
   "metadata": {
    "execution": {
     "iopub.execute_input": "2025-05-15T13:39:12.066122Z",
     "iopub.status.busy": "2025-05-15T13:39:12.065482Z"
    },
    "trusted": true
   },
   "outputs": [
    {
     "name": "stdout",
     "output_type": "stream",
     "text": [
      "\n",
      "Training Logistic Regression...\n"
     ]
    }
   ],
   "source": [
    "\n",
    "for name, model in models.items():\n",
    "    print(f\"\\nTraining {name}...\")\n",
    "    model.fit(X_train_resampled, y_train_resampled)\n",
    "    y_pred = model.predict(X_test_vectorized)\n",
    "    print(f\"\\n{name} Classification Report:\")\n",
    "    print(classification_report(y_test, y_pred, target_names=label_encoder.classes_))\n",
    "    print(f\"Accuracy Score: {accuracy_score(y_train, y_pred)}\")\n",
    "    print(f\"Accuracy Score: {accuracy_score(y_test, y_pred)}\")\n"
   ]
  },
  {
   "cell_type": "markdown",
   "metadata": {},
   "source": [
    "# Plot Confusion Matrix for Stacking Model"
   ]
  },
  {
   "cell_type": "code",
   "execution_count": null,
   "metadata": {
    "trusted": true
   },
   "outputs": [],
   "source": [
    "\n",
    "stack_pred = stack.predict(X_test_vectorized)\n",
    "conf_matrix = confusion_matrix(y_test, stack_pred)\n",
    "plt.figure(figsize=(15, 10))\n",
    "sns.heatmap(conf_matrix, annot=True, fmt=\"d\", cmap=\"Blues\", xticklabels=label_encoder.classes_, yticklabels=label_encoder.classes_)\n",
    "plt.title(\"Confusion Matrix - Stacking Classifier\")\n",
    "plt.show()\n"
   ]
  },
  {
   "cell_type": "markdown",
   "metadata": {},
   "source": [
    "Note : output of these file is remove due to different different types of experiments\n",
    "This file run at kaggle notebook due system less system confreguration"
   ]
  },
  {
   "cell_type": "markdown",
   "metadata": {},
   "source": []
  },
  {
   "cell_type": "markdown",
   "metadata": {},
   "source": []
  }
 ],
 "metadata": {
  "kaggle": {
   "accelerator": "gpu",
   "dataSources": [
    {
     "datasetId": 7416966,
     "sourceId": 11809520,
     "sourceType": "datasetVersion"
    }
   ],
   "dockerImageVersionId": 31041,
   "isGpuEnabled": true,
   "isInternetEnabled": true,
   "language": "python",
   "sourceType": "notebook"
  },
  "kernelspec": {
   "display_name": "Python 3",
   "language": "python",
   "name": "python3"
  },
  "language_info": {
   "codemirror_mode": {
    "name": "ipython",
    "version": 3
   },
   "file_extension": ".py",
   "mimetype": "text/x-python",
   "name": "python",
   "nbconvert_exporter": "python",
   "pygments_lexer": "ipython3",
   "version": "3.11.11"
  }
 },
 "nbformat": 4,
 "nbformat_minor": 4
}
